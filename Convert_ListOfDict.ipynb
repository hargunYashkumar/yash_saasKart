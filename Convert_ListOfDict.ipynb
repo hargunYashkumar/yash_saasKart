{
 "cells": [
  {
   "cell_type": "markdown",
   "metadata": {},
   "source": [
    "### converting dic into list ###"
   ]
  },
  {
   "cell_type": "code",
   "execution_count": null,
   "metadata": {},
   "outputs": [],
   "source": [
    "import json\n",
    "\n",
    "def dict_to_list(data):\n",
    "    \"\"\"\n",
    "    Recursively converts nested dictionaries into lists of key-value pairs.\n",
    "    Leaves other data types (lists, strings, numbers) unchanged.\n",
    "    \"\"\"\n",
    "    if isinstance(data, dict):\n",
    "        # Convert dictionary into a list of [key, value] pairs\n",
    "        return [[key, dict_to_list(value)] for key, value in data.items()]\n",
    "    elif isinstance(data, list):\n",
    "        # Recursively process each item in the list\n",
    "        return [dict_to_list(item) for item in data]\n",
    "    else:\n",
    "        # For non-dict and non-list types, return the data as is\n",
    "        return data\n",
    "\n",
    "def convert_file(input_file, output_file):\n",
    "    \"\"\"\n",
    "    Loads the JSON file, converts nested dictionaries into lists, and writes the output to a new file.\n",
    "    \"\"\"\n",
    "    try:\n",
    "        # Load the JSON file\n",
    "        with open(input_file, 'r', encoding='utf-8') as file:\n",
    "            data = json.load(file)\n",
    "\n",
    "        # Convert nested dictionaries into lists\n",
    "        updated_data = dict_to_list(data)\n",
    "\n",
    "        # Write the result to the output file\n",
    "        with open(output_file, 'w', encoding='utf-8') as outfile:\n",
    "            json.dump(updated_data, outfile, indent=4)\n",
    "        \n",
    "        print(f\"Converted data has been saved to: {output_file}\")\n",
    "    except Exception as e:\n",
    "        print(f\"An error occurred: {e}\")\n",
    "\n",
    "# Example usage\n",
    "convert_file(input_file, output_file)\n"
   ]
  }
 ],
 "metadata": {
  "kernelspec": {
   "display_name": "Python 3",
   "language": "python",
   "name": "python3"
  },
  "language_info": {
   "name": "python",
   "version": "3.11.4"
  }
 },
 "nbformat": 4,
 "nbformat_minor": 2
}
