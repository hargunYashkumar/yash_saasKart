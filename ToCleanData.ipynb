{
 "cells": [
  {
   "cell_type": "code",
   "execution_count": 1,
   "metadata": {},
   "outputs": [],
   "source": [
    "import json"
   ]
  },
  {
   "cell_type": "code",
   "execution_count": 5,
   "metadata": {},
   "outputs": [
    {
     "name": "stdout",
     "output_type": "stream",
     "text": [
      "File loaded successfully.\n"
     ]
    }
   ],
   "source": [
    "\n",
    "# Load the JSON file with 'utf-8' encoding\n",
    "with open('D:/work_place/data_example.json', 'r', encoding='utf-8') as file:\n",
    "    data = json.load(file)\n",
    "\n",
    "print(\"File loaded successfully.\")\n"
   ]
  },
  {
   "cell_type": "code",
   "execution_count": 6,
   "metadata": {},
   "outputs": [],
   "source": [
    "\n",
    "# Function to clean the data by removing null and empty values\n",
    "def clean_data(item):\n",
    "    # Removing fields that are None or empty\n",
    "    cleaned = {k: v for k, v in item.items() if v not in [None, \"\", {}, [], \"null\"]}\n",
    "    \n",
    "    # Cleaning nested 'data' field if present\n",
    "    if 'data' in cleaned:\n",
    "        cleaned['data'] = json.loads(cleaned['data'])  # Parsing nested JSON string\n",
    "        cleaned['data'] = {k: v for k, v in cleaned['data'].items() if v not in [None, \"\", {}, [], \"null\"]}\n",
    "\n",
    "    return cleaned\n",
    "\n",
    "# Clean the entire dataset\n",
    "cleaned_data = [clean_data(item) for item in data]\n"
   ]
  },
  {
   "cell_type": "code",
   "execution_count": 7,
   "metadata": {},
   "outputs": [],
   "source": [
    "\n",
    "# Function to sort by a specific key (e.g., name, founded_at, employee_count)\n",
    "def sort_data(data, key):\n",
    "    return sorted(data, key=lambda x: x.get(key, \"\"))  # Sort by the provided key, defaulting to an empty string if not found\n",
    "\n",
    "# Example: Sort by 'name'\n",
    "sorted_cleaned_data = sort_data(cleaned_data, 'name')\n",
    "\n"
   ]
  },
  {
   "cell_type": "code",
   "execution_count": 8,
   "metadata": {},
   "outputs": [
    {
     "name": "stdout",
     "output_type": "stream",
     "text": [
      "Data cleaned and sorted successfully.\n"
     ]
    }
   ],
   "source": [
    "# Save the cleaned and sorted data back to a new file\n",
    "with open('D:/work_place/sorted_cleaned_data.json', 'w') as file:\n",
    "    json.dump(sorted_cleaned_data, file, indent=4)\n",
    "\n",
    "print(\"Data cleaned and sorted successfully.\")\n"
   ]
  },
  {
   "cell_type": "code",
   "execution_count": null,
   "metadata": {},
   "outputs": [],
   "source": []
  }
 ],
 "metadata": {
  "kernelspec": {
   "display_name": "Python 3",
   "language": "python",
   "name": "python3"
  },
  "language_info": {
   "codemirror_mode": {
    "name": "ipython",
    "version": 3
   },
   "file_extension": ".py",
   "mimetype": "text/x-python",
   "name": "python",
   "nbconvert_exporter": "python",
   "pygments_lexer": "ipython3",
   "version": "3.11.4"
  }
 },
 "nbformat": 4,
 "nbformat_minor": 2
}
